{
 "cells": [
  {
   "cell_type": "markdown",
   "metadata": {},
   "source": [
    "## Chaotic Queue"
   ]
  },
  {
   "cell_type": "markdown",
   "metadata": {},
   "source": [
    "# We have a queue where people are labelled for their position in the queue. But some people in the queue bribed the person ahead and skip the queue by one. One person can bribe at maximum two times and skip its position. After some bribes the queue is altered and we are given array where people have altered their position by bribing the person ahead. We have to fin"
   ]
  },
  {
   "cell_type": "code",
   "execution_count": 12,
   "metadata": {},
   "outputs": [],
   "source": [
    "def FindSwaps(q):\n",
    "    run = True\n",
    "    for i in range(len(q) - 1):\n",
    "        if q[i] > (i+3):\n",
    "            print('Too chaotic')\n",
    "            run = False\n",
    "            break\n",
    "    if run:\n",
    "        count = 0\n",
    "        for i in range(len(q)-1):\n",
    "            for j in range(len(q)-i-1):\n",
    "                if q[j] > q[j+1]:\n",
    "                    c = q[j]\n",
    "                    q[j] = q[j+1]\n",
    "                    q[j+1] = c\n",
    "                    count = count+1\n",
    "        print('Swaps needed : ' + str(count))"
   ]
  },
  {
   "cell_type": "code",
   "execution_count": 13,
   "metadata": {},
   "outputs": [
    {
     "name": "stdout",
     "output_type": "stream",
     "text": [
      "Before : [1, 2, 5, 3, 7, 8, 6, 4]\n",
      "Swaps needed : 7\n",
      "After : [1, 2, 3, 4, 5, 6, 7, 8]\n"
     ]
    }
   ],
   "source": [
    "# q = [2,3,1,5,6,8,4,7]\n",
    "q = [1,2,5,3,7,8,6,4]\n",
    "print('Before : ' + str(q))\n",
    "res = FindSwaps(q)\n",
    "print('After : ' + str(q))"
   ]
  },
  {
   "cell_type": "code",
   "execution_count": null,
   "metadata": {},
   "outputs": [],
   "source": []
  }
 ],
 "metadata": {
  "kernelspec": {
   "display_name": "Python 3",
   "language": "python",
   "name": "python3"
  },
  "language_info": {
   "codemirror_mode": {
    "name": "ipython",
    "version": 3
   },
   "file_extension": ".py",
   "mimetype": "text/x-python",
   "name": "python",
   "nbconvert_exporter": "python",
   "pygments_lexer": "ipython3",
   "version": "3.7.0"
  }
 },
 "nbformat": 4,
 "nbformat_minor": 2
}
