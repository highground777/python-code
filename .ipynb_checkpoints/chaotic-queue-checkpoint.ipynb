{
 "cells": [
  {
   "cell_type": "markdown",
   "metadata": {},
   "source": [
    "## Chaotic Queue"
   ]
  },
  {
   "cell_type": "code",
   "execution_count": null,
   "metadata": {},
   "outputs": [],
   "source": [
    "\n",
    "    "
   ]
  },
  {
   "cell_type": "code",
   "execution_count": 5,
   "metadata": {},
   "outputs": [],
   "source": [
    "def FindSwaps(q):\n",
    "    run = True\n",
    "    for i in range(len(q) - 1):\n",
    "        if q[i] > (i+3):\n",
    "            print('Too chaotic')\n",
    "            run = False\n",
    "            break\n",
    "    if run:\n",
    "        count = 0\n",
    "        for i in range(len(q)-1):\n",
    "            for j in range(len(q)-i-1):\n",
    "                if q[j] > q[j+1]:\n",
    "                    c = q[j]\n",
    "                    q[j] = q[j+1]\n",
    "                    q[j+1] = c\n",
    "                    count = count+1\n",
    "        print(count)"
   ]
  },
  {
   "cell_type": "code",
   "execution_count": 7,
   "metadata": {},
   "outputs": [
    {
     "name": "stdout",
     "output_type": "stream",
     "text": [
      "[1, 2, 3, 5, 7, 8, 6, 4]\n",
      "[1, 2, 3, 5, 7, 6, 8, 4]\n",
      "[1, 2, 3, 5, 7, 6, 4, 8]\n",
      "[1, 2, 3, 5, 6, 7, 4, 8]\n",
      "[1, 2, 3, 5, 6, 4, 7, 8]\n",
      "[1, 2, 3, 5, 4, 6, 7, 8]\n",
      "[1, 2, 3, 4, 5, 6, 7, 8]\n",
      "7\n",
      "[1, 2, 3, 4, 5, 6, 7, 8]\n"
     ]
    }
   ],
   "source": [
    "# q = [2,3,1,5,6,8,4,7]\n",
    "q = [1,2,5,3,7,8,6,4]\n",
    "res = FindSwaps(q)\n",
    "print(res)\n",
    "print(q)"
   ]
  },
  {
   "cell_type": "code",
   "execution_count": null,
   "metadata": {},
   "outputs": [],
   "source": []
  }
 ],
 "metadata": {
  "kernelspec": {
   "display_name": "Python 3",
   "language": "python",
   "name": "python3"
  },
  "language_info": {
   "codemirror_mode": {
    "name": "ipython",
    "version": 3
   },
   "file_extension": ".py",
   "mimetype": "text/x-python",
   "name": "python",
   "nbconvert_exporter": "python",
   "pygments_lexer": "ipython3",
   "version": "3.7.0"
  }
 },
 "nbformat": 4,
 "nbformat_minor": 2
}
